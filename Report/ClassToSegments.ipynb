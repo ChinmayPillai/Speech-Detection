{
 "cells": [
  {
   "cell_type": "code",
   "execution_count": null,
   "id": "a3739643",
   "metadata": {},
   "outputs": [],
   "source": [
    "#If previous frame has speech\n",
    "if previous_frame == 1:\n",
    "        \n",
    "        #and current frame doesn't have speech\n",
    "        if current_frame == 0:\n",
    "            print(\"Start Time: \", start_time, \n",
    "                  \"End Time: \", current_start_time)\n",
    "            \n",
    "#If previous frame doesn't have speech\n",
    "#and current frame does have speech\n",
    "elif current_frame == 1:\n",
    "        start_time = current_start_time"
   ]
  }
 ],
 "metadata": {
  "kernelspec": {
   "display_name": "Python 3",
   "language": "python",
   "name": "python3"
  },
  "language_info": {
   "codemirror_mode": {
    "name": "ipython",
    "version": 3
   },
   "file_extension": ".py",
   "mimetype": "text/x-python",
   "name": "python",
   "nbconvert_exporter": "python",
   "pygments_lexer": "ipython3",
   "version": "3.8.8"
  }
 },
 "nbformat": 4,
 "nbformat_minor": 5
}
